{
 "cells": [
  {
   "cell_type": "code",
   "execution_count": 1,
   "id": "cb55b670",
   "metadata": {},
   "outputs": [],
   "source": [
    "import numpy as np\n",
    "import tensorflow as tf\n",
    "from tensorflow.keras.models import Sequential\n",
    "from tensorflow.keras.layers import Conv2D, MaxPooling2D,Flatten,Dense,Dropout\n",
    "from tensorflow.keras.optimizers import Adam\n",
    "import pandas as pd\n",
    "import matplotlib.pyplot as plt\n",
    "from sklearn.model_selection import train_test_split"
   ]
  },
  {
   "cell_type": "code",
   "execution_count": 2,
   "id": "c902b250",
   "metadata": {},
   "outputs": [
    {
     "name": "stdout",
     "output_type": "stream",
     "text": [
      "Model: \"sequential_1\"\n",
      "_________________________________________________________________\n",
      "Layer (type)                 Output Shape              Param #   \n",
      "=================================================================\n",
      "conv2d_3 (Conv2D)            (None, 64, 64, 16)        1216      \n",
      "_________________________________________________________________\n",
      "max_pooling2d_2 (MaxPooling2 (None, 32, 32, 16)        0         \n",
      "_________________________________________________________________\n",
      "conv2d_4 (Conv2D)            (None, 32, 32, 64)        25664     \n",
      "_________________________________________________________________\n",
      "max_pooling2d_3 (MaxPooling2 (None, 16, 16, 64)        0         \n",
      "_________________________________________________________________\n",
      "conv2d_5 (Conv2D)            (None, 16, 16, 120)       192120    \n",
      "_________________________________________________________________\n",
      "flatten_1 (Flatten)          (None, 30720)             0         \n",
      "_________________________________________________________________\n",
      "dense_2 (Dense)              (None, 84)                2580564   \n",
      "_________________________________________________________________\n",
      "dense_3 (Dense)              (None, 10)                850       \n",
      "=================================================================\n",
      "Total params: 2,800,414\n",
      "Trainable params: 2,800,414\n",
      "Non-trainable params: 0\n",
      "_________________________________________________________________\n"
     ]
    }
   ],
   "source": [
    "cnn = tf.keras.models.load_model(\"final_project.h5\")\n",
    "cnn.summary()"
   ]
  },
  {
   "cell_type": "code",
   "execution_count": 19,
   "id": "f928d06f",
   "metadata": {},
   "outputs": [],
   "source": [
    "f = open('test.csv', 'r')"
   ]
  },
  {
   "cell_type": "code",
   "execution_count": 20,
   "id": "87557596",
   "metadata": {},
   "outputs": [],
   "source": [
    "data = pd.read_csv(f,header=0)\n",
    "\n",
    "data_names = data['data'].to_numpy()\n",
    "data_labels = data['label'].to_numpy()"
   ]
  },
  {
   "cell_type": "code",
   "execution_count": 24,
   "id": "f3a56617",
   "metadata": {},
   "outputs": [],
   "source": [
    "X = []; Y = [];\n",
    "for i in range(data_names.size):\n",
    "    filename = data_names[i]\n",
    "    img = plt.imread('test/' + filename)\n",
    "    img = img.astype(np.float32)/255.0\n",
    "    X.append(img)\n",
    "\n",
    "Y = data_labels\n",
    "x_test = np.array(X)\n",
    "y_test = np.array(Y)\n",
    "y_test = tf.keras.utils.to_categorical(y_test,10)"
   ]
  },
  {
   "cell_type": "code",
   "execution_count": 17,
   "id": "26b90e56",
   "metadata": {},
   "outputs": [
    {
     "data": {
      "text/plain": [
       "array([3, 1, 4, ..., 0, 0, 3], dtype=int64)"
      ]
     },
     "execution_count": 17,
     "metadata": {},
     "output_type": "execute_result"
    }
   ],
   "source": [
    "y_test"
   ]
  },
  {
   "cell_type": "code",
   "execution_count": 11,
   "id": "09230d97",
   "metadata": {},
   "outputs": [],
   "source": [
    "#과제 제출을 위한 predcit 값 엑셀로 저장하는 코드\n",
    "pred = cnn.predict(x_test)\n",
    "\n",
    "pred = list(pred)\n",
    "for i in range(len(pred)):\n",
    "    pred[i] = list(pred[i])\n",
    "    \n",
    "result = []\n",
    "for p in pred:\n",
    "    result.append(p.index(max(p)))\n",
    "    \n",
    "df = pd.read_csv('submission.csv')\n",
    "df['label'] = result\n",
    "df.to_csv('submission.csv', index=False)"
   ]
  },
  {
   "cell_type": "code",
   "execution_count": 25,
   "id": "2bc082a1",
   "metadata": {},
   "outputs": [
    {
     "name": "stdout",
     "output_type": "stream",
     "text": [
      "정확률은 83.30000042915344\n"
     ]
    }
   ],
   "source": [
    "res=cnn.evaluate(x_test,y_test,verbose=0)\n",
    "print(\"정확률은\",res[1]*100)"
   ]
  },
  {
   "cell_type": "code",
   "execution_count": null,
   "id": "aaa291bf",
   "metadata": {},
   "outputs": [],
   "source": []
  }
 ],
 "metadata": {
  "kernelspec": {
   "display_name": "Python 3 (ipykernel)",
   "language": "python",
   "name": "python3"
  },
  "language_info": {
   "codemirror_mode": {
    "name": "ipython",
    "version": 3
   },
   "file_extension": ".py",
   "mimetype": "text/x-python",
   "name": "python",
   "nbconvert_exporter": "python",
   "pygments_lexer": "ipython3",
   "version": "3.8.8"
  }
 },
 "nbformat": 4,
 "nbformat_minor": 5
}
